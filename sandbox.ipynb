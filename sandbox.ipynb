{
 "cells": [
  {
   "cell_type": "markdown",
   "metadata": {},
   "source": [
    "## [SQLAlchemy チュートリアル概要｜SQLAlchemy 2.0 チュートリアル](https://zenn.dev/jin1125/books/e91183cdff5f2a/viewer/bee9e4)"
   ]
  },
  {
   "cell_type": "code",
   "execution_count": 1,
   "metadata": {},
   "outputs": [
    {
     "data": {
      "text/plain": [
       "'2.0.39'"
      ]
     },
     "execution_count": 1,
     "metadata": {},
     "output_type": "execute_result"
    }
   ],
   "source": [
    "import sqlalchemy\n",
    "sqlalchemy.__version__"
   ]
  },
  {
   "cell_type": "markdown",
   "metadata": {},
   "source": [
    "## [接続の確立 - エンジンの作成｜SQLAlchemy 2.0 チュートリアル](https://zenn.dev/jin1125/books/e91183cdff5f2a/viewer/754e70)"
   ]
  },
  {
   "cell_type": "code",
   "execution_count": 2,
   "metadata": {},
   "outputs": [],
   "source": [
    "from sqlalchemy import create_engine\n",
    "\n",
    "# SQLiteのインメモリデータベースに接続するEngineを作成\n",
    "engine = create_engine(\"sqlite+pysqlite:///:memory:\", echo=True)"
   ]
  },
  {
   "cell_type": "markdown",
   "metadata": {},
   "source": [
    "## [トランザクションとDBAPIの操作｜SQLAlchemy 2.0 チュートリアル](https://zenn.dev/jin1125/books/e91183cdff5f2a/viewer/f91303)"
   ]
  },
  {
   "cell_type": "code",
   "execution_count": 3,
   "metadata": {},
   "outputs": [
    {
     "name": "stdout",
     "output_type": "stream",
     "text": [
      "2025-03-14 14:51:23,596 INFO sqlalchemy.engine.Engine BEGIN (implicit)\n",
      "2025-03-14 14:51:23,598 INFO sqlalchemy.engine.Engine select 'hello world'\n",
      "2025-03-14 14:51:23,599 INFO sqlalchemy.engine.Engine [generated in 0.00299s] ()\n",
      "[('hello world',)]\n",
      "2025-03-14 14:51:23,600 INFO sqlalchemy.engine.Engine ROLLBACK\n"
     ]
    }
   ],
   "source": [
    "from sqlalchemy import text\n",
    "\n",
    "with engine.connect() as conn:\n",
    "    result = conn.execute(text(\"select 'hello world'\"))\n",
    "    print(result.all())"
   ]
  },
  {
   "cell_type": "code",
   "execution_count": 4,
   "metadata": {},
   "outputs": [
    {
     "name": "stdout",
     "output_type": "stream",
     "text": [
      "2025-03-14 14:51:23,611 INFO sqlalchemy.engine.Engine BEGIN (implicit)\n",
      "2025-03-14 14:51:23,613 INFO sqlalchemy.engine.Engine CREATE TABLE some_table (x int, y int)\n",
      "2025-03-14 14:51:23,613 INFO sqlalchemy.engine.Engine [generated in 0.00193s] ()\n",
      "2025-03-14 14:51:23,616 INFO sqlalchemy.engine.Engine INSERT INTO some_table (x, y) VALUES (?, ?)\n",
      "2025-03-14 14:51:23,617 INFO sqlalchemy.engine.Engine [generated in 0.00113s] [(1, 1), (2, 4)]\n",
      "2025-03-14 14:51:23,618 INFO sqlalchemy.engine.Engine COMMIT\n"
     ]
    }
   ],
   "source": [
    "with engine.connect() as conn:\n",
    "    conn.execute(text(\"CREATE TABLE some_table (x int, y int)\"))\n",
    "    conn.execute(\n",
    "        text(\"INSERT INTO some_table (x, y) VALUES (:x, :y)\"),\n",
    "        [{\"x\": 1, \"y\": 1}, {\"x\": 2, \"y\": 4}]\n",
    "    )\n",
    "    conn.commit()"
   ]
  },
  {
   "cell_type": "code",
   "execution_count": 5,
   "metadata": {},
   "outputs": [
    {
     "name": "stdout",
     "output_type": "stream",
     "text": [
      "2025-03-14 14:51:23,628 INFO sqlalchemy.engine.Engine BEGIN (implicit)\n",
      "2025-03-14 14:51:23,630 INFO sqlalchemy.engine.Engine INSERT INTO some_table (x, y) VALUES (?, ?)\n",
      "2025-03-14 14:51:23,631 INFO sqlalchemy.engine.Engine [cached since 0.0152s ago] [(6, 8), (9, 10)]\n",
      "2025-03-14 14:51:23,632 INFO sqlalchemy.engine.Engine COMMIT\n"
     ]
    }
   ],
   "source": [
    "with engine.begin() as conn:\n",
    "    conn.execute(\n",
    "        text(\"INSERT INTO some_table (x, y) VALUES (:x, :y)\"),\n",
    "        [{\"x\": 6, \"y\": 8}, {\"x\": 9, \"y\": 10}]\n",
    "    )"
   ]
  },
  {
   "cell_type": "code",
   "execution_count": 6,
   "metadata": {},
   "outputs": [
    {
     "name": "stdout",
     "output_type": "stream",
     "text": [
      "2025-03-14 14:51:23,645 INFO sqlalchemy.engine.Engine BEGIN (implicit)\n",
      "2025-03-14 14:51:23,647 INFO sqlalchemy.engine.Engine SELECT x, y FROM some_table\n",
      "2025-03-14 14:51:23,648 INFO sqlalchemy.engine.Engine [generated in 0.00071s] ()\n",
      "x: 1, y: 1\n",
      "x: 2, y: 4\n",
      "x: 6, y: 8\n",
      "x: 9, y: 10\n",
      "2025-03-14 14:51:23,650 INFO sqlalchemy.engine.Engine COMMIT\n"
     ]
    }
   ],
   "source": [
    "with engine.begin() as conn:\n",
    "    result = conn.execute(text(\"SELECT x, y FROM some_table\"))\n",
    "    for row in result:\n",
    "        print(f\"x: {row.x}, y: {row.y}\")"
   ]
  },
  {
   "cell_type": "code",
   "execution_count": 7,
   "metadata": {},
   "outputs": [
    {
     "name": "stdout",
     "output_type": "stream",
     "text": [
      "2025-03-14 14:51:23,662 INFO sqlalchemy.engine.Engine BEGIN (implicit)\n",
      "2025-03-14 14:51:23,664 INFO sqlalchemy.engine.Engine SELECT x, y FROM some_table WHERE y > ?\n",
      "2025-03-14 14:51:23,665 INFO sqlalchemy.engine.Engine [generated in 0.00080s] (5,)\n",
      "x: 6, y: 8\n",
      "x: 9, y: 10\n",
      "2025-03-14 14:51:23,666 INFO sqlalchemy.engine.Engine COMMIT\n",
      "<class 'sqlalchemy.engine.cursor.CursorResult'>\n"
     ]
    }
   ],
   "source": [
    "with engine.begin() as conn:\n",
    "    result = conn.execute(text(\"SELECT x, y FROM some_table WHERE y > :y\"), {\"y\": 5})\n",
    "\n",
    "    for row in result:\n",
    "        print(f\"x: {row.x}, y: {row.y}\")\n",
    "\n",
    "print(type(result))"
   ]
  },
  {
   "cell_type": "code",
   "execution_count": 8,
   "metadata": {},
   "outputs": [
    {
     "name": "stdout",
     "output_type": "stream",
     "text": [
      "2025-03-14 14:51:23,822 INFO sqlalchemy.engine.Engine BEGIN (implicit)\n",
      "2025-03-14 14:51:23,823 INFO sqlalchemy.engine.Engine SELECT x, y FROM some_table WHERE y > ? ORDER BY x, y\n",
      "2025-03-14 14:51:23,824 INFO sqlalchemy.engine.Engine [generated in 0.00068s] (5,)\n",
      "x: 6, y: 8\n",
      "x: 9, y: 10\n",
      "2025-03-14 14:51:23,825 INFO sqlalchemy.engine.Engine ROLLBACK\n"
     ]
    }
   ],
   "source": [
    "from sqlalchemy.orm import Session\n",
    "\n",
    "stmt = text(\"SELECT x, y FROM some_table WHERE y > :y ORDER BY x, y\")\n",
    "with Session(engine) as session:\n",
    "    result = session.execute(stmt, {\"y\": 5})\n",
    "    for row in result:\n",
    "        print(f\"x: {row.x}, y: {row.y}\")"
   ]
  },
  {
   "cell_type": "markdown",
   "metadata": {},
   "source": [
    "## [データベースメタデータの操作｜SQLAlchemy 2.0 チュートリアル](https://zenn.dev/jin1125/books/e91183cdff5f2a/viewer/3251b3)"
   ]
  },
  {
   "cell_type": "code",
   "execution_count": 9,
   "metadata": {},
   "outputs": [],
   "source": [
    "from sqlalchemy import MetaData\n",
    "\n",
    "metadata_obj = MetaData()"
   ]
  },
  {
   "cell_type": "code",
   "execution_count": 10,
   "metadata": {},
   "outputs": [],
   "source": [
    "from sqlalchemy import Table, Column, Integer, String\n",
    "\n",
    "user_table = Table(\n",
    "    \"user_account\",\n",
    "    metadata_obj,\n",
    "    Column(\"id\", Integer, primary_key=True),\n",
    "    Column(\"name\", String(30)),\n",
    "    Column(\"fullname\", String)\n",
    ")"
   ]
  },
  {
   "cell_type": "code",
   "execution_count": 11,
   "metadata": {},
   "outputs": [
    {
     "name": "stdout",
     "output_type": "stream",
     "text": [
      "user_account.name\n",
      "['id', 'name', 'fullname']\n"
     ]
    }
   ],
   "source": [
    "print(user_table.c.name)\n",
    "print(user_table.c.keys())"
   ]
  },
  {
   "cell_type": "code",
   "execution_count": 12,
   "metadata": {},
   "outputs": [],
   "source": [
    "from sqlalchemy import ForeignKey\n",
    "\n",
    "address_table = Table(\n",
    "    \"address\",\n",
    "    metadata_obj,\n",
    "    Column(\"id\", Integer, primary_key=True),\n",
    "    Column(\"user_id\", ForeignKey(\"user_account.id\"), nullable=False),\n",
    "    Column(\"email_address\", String, nullable=False)\n",
    ")"
   ]
  },
  {
   "cell_type": "code",
   "execution_count": 13,
   "metadata": {},
   "outputs": [
    {
     "name": "stdout",
     "output_type": "stream",
     "text": [
      "2025-03-14 14:51:23,880 INFO sqlalchemy.engine.Engine BEGIN (implicit)\n",
      "2025-03-14 14:51:23,882 INFO sqlalchemy.engine.Engine PRAGMA main.table_info(\"user_account\")\n",
      "2025-03-14 14:51:23,883 INFO sqlalchemy.engine.Engine [raw sql] ()\n",
      "2025-03-14 14:51:23,884 INFO sqlalchemy.engine.Engine PRAGMA temp.table_info(\"user_account\")\n",
      "2025-03-14 14:51:23,885 INFO sqlalchemy.engine.Engine [raw sql] ()\n",
      "2025-03-14 14:51:23,886 INFO sqlalchemy.engine.Engine PRAGMA main.table_info(\"address\")\n",
      "2025-03-14 14:51:23,886 INFO sqlalchemy.engine.Engine [raw sql] ()\n",
      "2025-03-14 14:51:23,887 INFO sqlalchemy.engine.Engine PRAGMA temp.table_info(\"address\")\n",
      "2025-03-14 14:51:23,888 INFO sqlalchemy.engine.Engine [raw sql] ()\n",
      "2025-03-14 14:51:23,889 INFO sqlalchemy.engine.Engine \n",
      "CREATE TABLE user_account (\n",
      "\tid INTEGER NOT NULL, \n",
      "\tname VARCHAR(30), \n",
      "\tfullname VARCHAR, \n",
      "\tPRIMARY KEY (id)\n",
      ")\n",
      "\n",
      "\n",
      "2025-03-14 14:51:23,890 INFO sqlalchemy.engine.Engine [no key 0.00063s] ()\n",
      "2025-03-14 14:51:23,891 INFO sqlalchemy.engine.Engine \n",
      "CREATE TABLE address (\n",
      "\tid INTEGER NOT NULL, \n",
      "\tuser_id INTEGER NOT NULL, \n",
      "\temail_address VARCHAR NOT NULL, \n",
      "\tPRIMARY KEY (id), \n",
      "\tFOREIGN KEY(user_id) REFERENCES user_account (id)\n",
      ")\n",
      "\n",
      "\n",
      "2025-03-14 14:51:23,892 INFO sqlalchemy.engine.Engine [no key 0.00066s] ()\n",
      "2025-03-14 14:51:23,893 INFO sqlalchemy.engine.Engine COMMIT\n"
     ]
    }
   ],
   "source": [
    "metadata_obj.create_all(engine)"
   ]
  },
  {
   "cell_type": "code",
   "execution_count": 14,
   "metadata": {},
   "outputs": [],
   "source": [
    "from sqlalchemy.orm import declarative_base\n",
    "\n",
    "Base = declarative_base()"
   ]
  },
  {
   "cell_type": "code",
   "execution_count": 15,
   "metadata": {},
   "outputs": [],
   "source": [
    "from sqlalchemy.orm import Mapped, mapped_column, relationship\n",
    "from typing import List, Optional\n",
    "\n",
    "\n",
    "# Userクラスの定義\n",
    "class User(Base):\n",
    "    __tablename__ = \"user_account\"\n",
    "\n",
    "    id: Mapped[int] = mapped_column(primary_key=True)\n",
    "    name: Mapped[str] = mapped_column(String(30))\n",
    "    fullname: Mapped[Optional[str]]\n",
    "\n",
    "    addresses: Mapped[List[\"Address\"]] = relationship(back_populates=\"user\")\n",
    "\n",
    "\n",
    "# Addressクラスの定義\n",
    "class Address(Base):\n",
    "    __tablename__ = \"address\"\n",
    "\n",
    "    id: Mapped[int] = mapped_column(primary_key=True)\n",
    "    email_address: Mapped[str]\n",
    "    user_id: Mapped[int] = mapped_column(ForeignKey(\"user_account.id\"))\n",
    "\n",
    "    user: Mapped[User] = relationship(back_populates=\"addresses\")"
   ]
  },
  {
   "cell_type": "code",
   "execution_count": 16,
   "metadata": {},
   "outputs": [
    {
     "name": "stdout",
     "output_type": "stream",
     "text": [
      "2025-03-14 14:51:23,935 INFO sqlalchemy.engine.Engine BEGIN (implicit)\n",
      "2025-03-14 14:51:23,936 INFO sqlalchemy.engine.Engine PRAGMA main.table_xinfo(\"some_table\")\n",
      "2025-03-14 14:51:23,936 INFO sqlalchemy.engine.Engine [raw sql] ()\n",
      "2025-03-14 14:51:23,938 INFO sqlalchemy.engine.Engine SELECT sql FROM  (SELECT * FROM sqlite_master UNION ALL   SELECT * FROM sqlite_temp_master) WHERE name = ? AND type in ('table', 'view')\n",
      "2025-03-14 14:51:23,939 INFO sqlalchemy.engine.Engine [raw sql] ('some_table',)\n",
      "2025-03-14 14:51:23,941 INFO sqlalchemy.engine.Engine PRAGMA main.foreign_key_list(\"some_table\")\n",
      "2025-03-14 14:51:23,942 INFO sqlalchemy.engine.Engine [raw sql] ()\n",
      "2025-03-14 14:51:23,942 INFO sqlalchemy.engine.Engine PRAGMA temp.foreign_key_list(\"some_table\")\n",
      "2025-03-14 14:51:23,943 INFO sqlalchemy.engine.Engine [raw sql] ()\n",
      "2025-03-14 14:51:23,944 INFO sqlalchemy.engine.Engine SELECT sql FROM  (SELECT * FROM sqlite_master UNION ALL   SELECT * FROM sqlite_temp_master) WHERE name = ? AND type in ('table', 'view')\n",
      "2025-03-14 14:51:23,944 INFO sqlalchemy.engine.Engine [raw sql] ('some_table',)\n",
      "2025-03-14 14:51:23,947 INFO sqlalchemy.engine.Engine PRAGMA main.index_list(\"some_table\")\n",
      "2025-03-14 14:51:23,948 INFO sqlalchemy.engine.Engine [raw sql] ()\n",
      "2025-03-14 14:51:23,948 INFO sqlalchemy.engine.Engine PRAGMA temp.index_list(\"some_table\")\n",
      "2025-03-14 14:51:23,949 INFO sqlalchemy.engine.Engine [raw sql] ()\n",
      "2025-03-14 14:51:23,950 INFO sqlalchemy.engine.Engine PRAGMA main.table_info(\"some_table\")\n",
      "2025-03-14 14:51:23,950 INFO sqlalchemy.engine.Engine [raw sql] ()\n",
      "2025-03-14 14:51:23,952 INFO sqlalchemy.engine.Engine PRAGMA main.index_list(\"some_table\")\n",
      "2025-03-14 14:51:23,952 INFO sqlalchemy.engine.Engine [raw sql] ()\n",
      "2025-03-14 14:51:23,953 INFO sqlalchemy.engine.Engine PRAGMA temp.index_list(\"some_table\")\n",
      "2025-03-14 14:51:23,953 INFO sqlalchemy.engine.Engine [raw sql] ()\n",
      "2025-03-14 14:51:23,954 INFO sqlalchemy.engine.Engine PRAGMA main.table_info(\"some_table\")\n",
      "2025-03-14 14:51:23,955 INFO sqlalchemy.engine.Engine [raw sql] ()\n",
      "2025-03-14 14:51:23,956 INFO sqlalchemy.engine.Engine SELECT sql FROM  (SELECT * FROM sqlite_master UNION ALL   SELECT * FROM sqlite_temp_master) WHERE name = ? AND type in ('table', 'view')\n",
      "2025-03-14 14:51:23,956 INFO sqlalchemy.engine.Engine [raw sql] ('some_table',)\n",
      "2025-03-14 14:51:23,959 INFO sqlalchemy.engine.Engine ROLLBACK\n"
     ]
    }
   ],
   "source": [
    "some_table = Table(\"some_table\", metadata_obj, autoload_with=engine)"
   ]
  },
  {
   "cell_type": "code",
   "execution_count": 17,
   "metadata": {},
   "outputs": [
    {
     "name": "stdout",
     "output_type": "stream",
     "text": [
      "['x', 'y']\n"
     ]
    }
   ],
   "source": [
    "print(some_table.c.keys())"
   ]
  },
  {
   "cell_type": "markdown",
   "metadata": {},
   "source": [
    "## [データ操作の概要｜SQLAlchemy 2.0 チュートリアル](https://zenn.dev/jin1125/books/e91183cdff5f2a/viewer/002e99)"
   ]
  },
  {
   "cell_type": "code",
   "execution_count": 18,
   "metadata": {},
   "outputs": [
    {
     "name": "stdout",
     "output_type": "stream",
     "text": [
      "INSERT INTO user_account (name, fullname) VALUES (:name, :fullname)\n",
      "2025-03-14 14:51:23,980 INFO sqlalchemy.engine.Engine BEGIN (implicit)\n",
      "2025-03-14 14:51:23,982 INFO sqlalchemy.engine.Engine INSERT INTO user_account (name, fullname) VALUES (?, ?)\n",
      "2025-03-14 14:51:23,983 INFO sqlalchemy.engine.Engine [generated in 0.00097s] ('spongebob', 'Spongebob Squarepants')\n",
      "2025-03-14 14:51:23,984 INFO sqlalchemy.engine.Engine COMMIT\n"
     ]
    }
   ],
   "source": [
    "from sqlalchemy import insert\n",
    "\n",
    "stmt = insert(user_table).values(name=\"spongebob\", fullname=\"Spongebob Squarepants\")\n",
    "\n",
    "print(stmt)\n",
    "\n",
    "with engine.begin() as conn:\n",
    "    conn.execute(stmt)"
   ]
  },
  {
   "cell_type": "code",
   "execution_count": 19,
   "metadata": {},
   "outputs": [
    {
     "name": "stdout",
     "output_type": "stream",
     "text": [
      "2025-03-14 14:51:23,996 INFO sqlalchemy.engine.Engine BEGIN (implicit)\n",
      "2025-03-14 14:51:23,998 INFO sqlalchemy.engine.Engine SELECT user_account.id, user_account.name, user_account.fullname \n",
      "FROM user_account\n",
      "2025-03-14 14:51:23,999 INFO sqlalchemy.engine.Engine [generated in 0.00096s] ()\n",
      "(1, 'spongebob', 'Spongebob Squarepants')\n",
      "2025-03-14 14:51:24,001 INFO sqlalchemy.engine.Engine COMMIT\n"
     ]
    }
   ],
   "source": [
    "from sqlalchemy import select\n",
    "\n",
    "stmt = select(user_table)\n",
    "\n",
    "with engine.begin() as conn:\n",
    "    result = conn.execute(stmt)\n",
    "    for row in result:\n",
    "        print(row)"
   ]
  },
  {
   "cell_type": "code",
   "execution_count": 20,
   "metadata": {},
   "outputs": [
    {
     "name": "stdout",
     "output_type": "stream",
     "text": [
      "2025-03-14 14:51:24,011 INFO sqlalchemy.engine.Engine BEGIN (implicit)\n",
      "2025-03-14 14:51:24,013 INFO sqlalchemy.engine.Engine SELECT user_account.id, user_account.name, user_account.fullname \n",
      "FROM user_account \n",
      "WHERE user_account.name = ?\n",
      "2025-03-14 14:51:24,014 INFO sqlalchemy.engine.Engine [generated in 0.00115s] ('spongebob',)\n",
      "[(1, 'spongebob', 'Spongebob Squarepants')]\n",
      "2025-03-14 14:51:24,016 INFO sqlalchemy.engine.Engine COMMIT\n"
     ]
    }
   ],
   "source": [
    "stmt = select(user_table).where(user_table.c.name == \"spongebob\")\n",
    "\n",
    "with engine.begin() as conn:\n",
    "    result = conn.execute(stmt)\n",
    "    print(result.all())"
   ]
  },
  {
   "cell_type": "code",
   "execution_count": 21,
   "metadata": {},
   "outputs": [
    {
     "name": "stdout",
     "output_type": "stream",
     "text": [
      "2025-03-14 14:51:24,027 INFO sqlalchemy.engine.Engine BEGIN (implicit)\n",
      "2025-03-14 14:51:24,029 INFO sqlalchemy.engine.Engine UPDATE user_account SET fullname=? WHERE user_account.name = ?\n",
      "2025-03-14 14:51:24,030 INFO sqlalchemy.engine.Engine [generated in 0.00096s] ('Spongebob Squarepants', 'spongebob')\n",
      "2025-03-14 14:51:24,031 INFO sqlalchemy.engine.Engine COMMIT\n"
     ]
    }
   ],
   "source": [
    "from sqlalchemy import update\n",
    "\n",
    "stmt = update(user_table).where(user_table.c.name == \"spongebob\").values(fullname=\"Spongebob Squarepants\")\n",
    "\n",
    "with engine.begin() as conn:\n",
    "    conn.execute(stmt)"
   ]
  },
  {
   "cell_type": "code",
   "execution_count": 22,
   "metadata": {},
   "outputs": [
    {
     "name": "stdout",
     "output_type": "stream",
     "text": [
      "2025-03-14 14:51:24,041 INFO sqlalchemy.engine.Engine BEGIN (implicit)\n",
      "2025-03-14 14:51:24,043 INFO sqlalchemy.engine.Engine DELETE FROM user_account WHERE user_account.name = ?\n",
      "2025-03-14 14:51:24,043 INFO sqlalchemy.engine.Engine [generated in 0.00093s] ('spongebob',)\n",
      "2025-03-14 14:51:24,044 INFO sqlalchemy.engine.Engine COMMIT\n"
     ]
    }
   ],
   "source": [
    "from sqlalchemy import delete\n",
    "\n",
    "stmt = delete(user_table).where(user_table.c.name == \"spongebob\")\n",
    "\n",
    "with engine.begin() as conn:\n",
    "    conn.execute(stmt)"
   ]
  },
  {
   "cell_type": "markdown",
   "metadata": {},
   "source": [
    "## [ORMでのデータ操作｜SQLAlchemy 2.0 チュートリアル](https://zenn.dev/jin1125/books/e91183cdff5f2a/viewer/fa5f6d)"
   ]
  },
  {
   "cell_type": "code",
   "execution_count": 23,
   "metadata": {},
   "outputs": [],
   "source": [
    "from sqlalchemy import insert\n",
    "\n",
    "spongebob = User(name=\"spongebob\", fullname=\"Spongebob Squarepants\")\n",
    "patrik = User(name=\"patrik\", fullname=\"Patrik Star\")"
   ]
  },
  {
   "cell_type": "code",
   "execution_count": 24,
   "metadata": {},
   "outputs": [
    {
     "name": "stdout",
     "output_type": "stream",
     "text": [
      "2025-03-14 14:51:24,073 INFO sqlalchemy.engine.Engine BEGIN (implicit)\n",
      "2025-03-14 14:51:24,076 INFO sqlalchemy.engine.Engine INSERT INTO user_account (name, fullname) VALUES (?, ?) RETURNING id\n",
      "2025-03-14 14:51:24,076 INFO sqlalchemy.engine.Engine [generated in 0.00014s (insertmanyvalues) 1/2 (ordered; batch not supported)] ('spongebob', 'Spongebob Squarepants')\n",
      "2025-03-14 14:51:24,078 INFO sqlalchemy.engine.Engine INSERT INTO user_account (name, fullname) VALUES (?, ?) RETURNING id\n",
      "2025-03-14 14:51:24,079 INFO sqlalchemy.engine.Engine [insertmanyvalues 2/2 (ordered; batch not supported)] ('patrik', 'Patrik Star')\n",
      "2025-03-14 14:51:24,081 INFO sqlalchemy.engine.Engine COMMIT\n",
      "2025-03-14 14:51:24,082 INFO sqlalchemy.engine.Engine BEGIN (implicit)\n",
      "2025-03-14 14:51:24,085 INFO sqlalchemy.engine.Engine SELECT user_account.id AS user_account_id, user_account.name AS user_account_name, user_account.fullname AS user_account_fullname \n",
      "FROM user_account \n",
      "WHERE user_account.id = ?\n",
      "2025-03-14 14:51:24,086 INFO sqlalchemy.engine.Engine [generated in 0.00104s] (1,)\n",
      "1\n",
      "2025-03-14 14:51:24,088 INFO sqlalchemy.engine.Engine ROLLBACK\n"
     ]
    }
   ],
   "source": [
    "from sqlalchemy.orm import Session\n",
    "\n",
    "# with Session(engine, expire_on_commit=False) as session:\n",
    "with Session(engine) as session:\n",
    "    session.add(spongebob)\n",
    "    session.add_all([patrik])\n",
    "    session.commit()\n",
    "\n",
    "    print(spongebob.id)"
   ]
  }
 ],
 "metadata": {
  "kernelspec": {
   "display_name": "env",
   "language": "python",
   "name": "python3"
  },
  "language_info": {
   "codemirror_mode": {
    "name": "ipython",
    "version": 3
   },
   "file_extension": ".py",
   "mimetype": "text/x-python",
   "name": "python",
   "nbconvert_exporter": "python",
   "pygments_lexer": "ipython3",
   "version": "3.13.2"
  }
 },
 "nbformat": 4,
 "nbformat_minor": 2
}
