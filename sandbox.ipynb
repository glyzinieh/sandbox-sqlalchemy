{
 "cells": [
  {
   "cell_type": "markdown",
   "metadata": {},
   "source": [
    "## [SQLAlchemy チュートリアル概要｜SQLAlchemy 2.0 チュートリアル](https://zenn.dev/jin1125/books/e91183cdff5f2a/viewer/bee9e4)"
   ]
  },
  {
   "cell_type": "code",
   "execution_count": 2,
   "metadata": {},
   "outputs": [
    {
     "data": {
      "text/plain": [
       "'2.0.39'"
      ]
     },
     "execution_count": 2,
     "metadata": {},
     "output_type": "execute_result"
    }
   ],
   "source": [
    "import sqlalchemy\n",
    "sqlalchemy.__version__"
   ]
  },
  {
   "cell_type": "markdown",
   "metadata": {},
   "source": [
    "## [接続の確立 - エンジンの作成｜SQLAlchemy 2.0 チュートリアル](https://zenn.dev/jin1125/books/e91183cdff5f2a/viewer/754e70)"
   ]
  },
  {
   "cell_type": "code",
   "execution_count": 3,
   "metadata": {},
   "outputs": [],
   "source": [
    "from sqlalchemy import create_engine\n",
    "\n",
    "# SQLiteのインメモリデータベースに接続するEngineを作成\n",
    "engine = create_engine(\"sqlite+pysqlite:///:memory:\", echo=True)"
   ]
  },
  {
   "cell_type": "markdown",
   "metadata": {},
   "source": [
    "## [トランザクションとDBAPIの操作｜SQLAlchemy 2.0 チュートリアル](https://zenn.dev/jin1125/books/e91183cdff5f2a/viewer/f91303)"
   ]
  },
  {
   "cell_type": "code",
   "execution_count": 4,
   "metadata": {},
   "outputs": [
    {
     "name": "stdout",
     "output_type": "stream",
     "text": [
      "2025-03-12 14:37:03,892 INFO sqlalchemy.engine.Engine BEGIN (implicit)\n",
      "2025-03-12 14:37:03,894 INFO sqlalchemy.engine.Engine select 'hello world'\n",
      "2025-03-12 14:37:03,895 INFO sqlalchemy.engine.Engine [generated in 0.00218s] ()\n",
      "[('hello world',)]\n",
      "2025-03-12 14:37:03,896 INFO sqlalchemy.engine.Engine ROLLBACK\n"
     ]
    }
   ],
   "source": [
    "from sqlalchemy import text\n",
    "\n",
    "with engine.connect() as conn:\n",
    "    result = conn.execute(text(\"select 'hello world'\"))\n",
    "    print(result.all())"
   ]
  },
  {
   "cell_type": "code",
   "execution_count": 5,
   "metadata": {},
   "outputs": [
    {
     "name": "stdout",
     "output_type": "stream",
     "text": [
      "2025-03-12 14:38:26,716 INFO sqlalchemy.engine.Engine BEGIN (implicit)\n",
      "2025-03-12 14:38:26,717 INFO sqlalchemy.engine.Engine CREATE TABLE some_table (x int, y int)\n",
      "2025-03-12 14:38:26,718 INFO sqlalchemy.engine.Engine [generated in 0.00154s] ()\n",
      "2025-03-12 14:38:26,719 INFO sqlalchemy.engine.Engine INSERT INTO some_table (x, y) VALUES (?, ?)\n",
      "2025-03-12 14:38:26,720 INFO sqlalchemy.engine.Engine [generated in 0.00065s] [(1, 1), (2, 4)]\n",
      "2025-03-12 14:38:26,720 INFO sqlalchemy.engine.Engine COMMIT\n"
     ]
    }
   ],
   "source": [
    "with engine.connect() as conn:\n",
    "    conn.execute(text(\"CREATE TABLE some_table (x int, y int)\"))\n",
    "    conn.execute(\n",
    "        text(\"INSERT INTO some_table (x, y) VALUES (:x, :y)\"),\n",
    "        [{\"x\": 1, \"y\": 1}, {\"x\": 2, \"y\": 4}]\n",
    "    )\n",
    "    conn.commit()"
   ]
  },
  {
   "cell_type": "code",
   "execution_count": 6,
   "metadata": {},
   "outputs": [
    {
     "name": "stdout",
     "output_type": "stream",
     "text": [
      "2025-03-12 14:39:06,212 INFO sqlalchemy.engine.Engine BEGIN (implicit)\n",
      "2025-03-12 14:39:06,213 INFO sqlalchemy.engine.Engine INSERT INTO some_table (x, y) VALUES (?, ?)\n",
      "2025-03-12 14:39:06,214 INFO sqlalchemy.engine.Engine [cached since 39.49s ago] [(6, 8), (9, 10)]\n",
      "2025-03-12 14:39:06,215 INFO sqlalchemy.engine.Engine COMMIT\n"
     ]
    }
   ],
   "source": [
    "with engine.begin() as conn:\n",
    "    conn.execute(\n",
    "        text(\"INSERT INTO some_table (x, y) VALUES (:x, :y)\"),\n",
    "        [{\"x\": 6, \"y\": 8}, {\"x\": 9, \"y\": 10}]\n",
    "    )"
   ]
  },
  {
   "cell_type": "code",
   "execution_count": 8,
   "metadata": {},
   "outputs": [
    {
     "name": "stdout",
     "output_type": "stream",
     "text": [
      "2025-03-12 14:39:42,608 INFO sqlalchemy.engine.Engine BEGIN (implicit)\n",
      "2025-03-12 14:39:42,609 INFO sqlalchemy.engine.Engine SELECT x, y FROM some_table\n",
      "2025-03-12 14:39:42,610 INFO sqlalchemy.engine.Engine [cached since 14.71s ago] ()\n",
      "x: 1, y: 1\n",
      "x: 2, y: 4\n",
      "x: 6, y: 8\n",
      "x: 9, y: 10\n",
      "2025-03-12 14:39:42,611 INFO sqlalchemy.engine.Engine COMMIT\n"
     ]
    }
   ],
   "source": [
    "with engine.begin() as conn:\n",
    "    result = conn.execute(text(\"SELECT x, y FROM some_table\"))\n",
    "    for row in result:\n",
    "        print(f\"x: {row.x}, y: {row.y}\")"
   ]
  },
  {
   "cell_type": "code",
   "execution_count": 12,
   "metadata": {},
   "outputs": [
    {
     "name": "stdout",
     "output_type": "stream",
     "text": [
      "2025-03-12 14:41:24,658 INFO sqlalchemy.engine.Engine BEGIN (implicit)\n",
      "2025-03-12 14:41:24,659 INFO sqlalchemy.engine.Engine SELECT x, y FROM some_table WHERE y > ?\n",
      "2025-03-12 14:41:24,660 INFO sqlalchemy.engine.Engine [cached since 44.88s ago] (5,)\n",
      "x: 6, y: 8\n",
      "x: 9, y: 10\n",
      "2025-03-12 14:41:24,661 INFO sqlalchemy.engine.Engine COMMIT\n",
      "<class 'sqlalchemy.engine.cursor.CursorResult'>\n"
     ]
    }
   ],
   "source": [
    "with engine.begin() as conn:\n",
    "    result = conn.execute(text(\"SELECT x, y FROM some_table WHERE y > :y\"), {\"y\": 5})\n",
    "\n",
    "    for row in result:\n",
    "        print(f\"x: {row.x}, y: {row.y}\")\n",
    "\n",
    "print(type(result))"
   ]
  },
  {
   "cell_type": "code",
   "execution_count": 13,
   "metadata": {},
   "outputs": [
    {
     "name": "stdout",
     "output_type": "stream",
     "text": [
      "2025-03-12 14:42:53,744 INFO sqlalchemy.engine.Engine BEGIN (implicit)\n",
      "2025-03-12 14:42:53,745 INFO sqlalchemy.engine.Engine SELECT x, y FROM some_table WHERE y > ? ORDER BY x, y\n",
      "2025-03-12 14:42:53,746 INFO sqlalchemy.engine.Engine [generated in 0.00137s] (5,)\n",
      "x: 6, y: 8\n",
      "x: 9, y: 10\n",
      "2025-03-12 14:42:53,748 INFO sqlalchemy.engine.Engine ROLLBACK\n"
     ]
    }
   ],
   "source": [
    "from sqlalchemy.orm import Session\n",
    "\n",
    "stmt = text(\"SELECT x, y FROM some_table WHERE y > :y ORDER BY x, y\")\n",
    "with Session(engine) as session:\n",
    "    result = session.execute(stmt, {\"y\": 5})\n",
    "    for row in result:\n",
    "        print(f\"x: {row.x}, y: {row.y}\")"
   ]
  },
  {
   "cell_type": "markdown",
   "metadata": {},
   "source": [
    "## [データベースメタデータの操作｜SQLAlchemy 2.0 チュートリアル](https://zenn.dev/jin1125/books/e91183cdff5f2a/viewer/3251b3)"
   ]
  },
  {
   "cell_type": "code",
   "execution_count": 14,
   "metadata": {},
   "outputs": [],
   "source": [
    "from sqlalchemy import MetaData\n",
    "\n",
    "metadata_obj = MetaData()"
   ]
  },
  {
   "cell_type": "code",
   "execution_count": 15,
   "metadata": {},
   "outputs": [],
   "source": [
    "from sqlalchemy import Table, Column, Integer, String\n",
    "\n",
    "user_table = Table(\n",
    "    \"user_account\",\n",
    "    metadata_obj,\n",
    "    Column(\"id\", Integer, primary_key=True),\n",
    "    Column(\"name\", String(30)),\n",
    "    Column(\"fullname\", String)\n",
    ")"
   ]
  },
  {
   "cell_type": "code",
   "execution_count": 16,
   "metadata": {},
   "outputs": [
    {
     "name": "stdout",
     "output_type": "stream",
     "text": [
      "user_account.name\n",
      "['id', 'name', 'fullname']\n"
     ]
    }
   ],
   "source": [
    "print(user_table.c.name)\n",
    "print(user_table.c.keys())"
   ]
  },
  {
   "cell_type": "code",
   "execution_count": 18,
   "metadata": {},
   "outputs": [],
   "source": [
    "from sqlalchemy import ForeignKey\n",
    "\n",
    "address_table = Table(\n",
    "    \"address\",\n",
    "    metadata_obj,\n",
    "    Column(\"id\", Integer, primary_key=True),\n",
    "    Column(\"user_id\", ForeignKey(\"user_account.id\"), nullable=False),\n",
    "    Column(\"email_address\", String, nullable=False)\n",
    ")"
   ]
  },
  {
   "cell_type": "code",
   "execution_count": 19,
   "metadata": {},
   "outputs": [
    {
     "name": "stdout",
     "output_type": "stream",
     "text": [
      "2025-03-12 14:47:16,313 INFO sqlalchemy.engine.Engine BEGIN (implicit)\n",
      "2025-03-12 14:47:16,314 INFO sqlalchemy.engine.Engine PRAGMA main.table_info(\"user_account\")\n",
      "2025-03-12 14:47:16,315 INFO sqlalchemy.engine.Engine [raw sql] ()\n",
      "2025-03-12 14:47:16,316 INFO sqlalchemy.engine.Engine PRAGMA temp.table_info(\"user_account\")\n",
      "2025-03-12 14:47:16,317 INFO sqlalchemy.engine.Engine [raw sql] ()\n",
      "2025-03-12 14:47:16,318 INFO sqlalchemy.engine.Engine PRAGMA main.table_info(\"address\")\n",
      "2025-03-12 14:47:16,319 INFO sqlalchemy.engine.Engine [raw sql] ()\n",
      "2025-03-12 14:47:16,320 INFO sqlalchemy.engine.Engine PRAGMA temp.table_info(\"address\")\n",
      "2025-03-12 14:47:16,321 INFO sqlalchemy.engine.Engine [raw sql] ()\n",
      "2025-03-12 14:47:16,323 INFO sqlalchemy.engine.Engine \n",
      "CREATE TABLE user_account (\n",
      "\tid INTEGER NOT NULL, \n",
      "\tname VARCHAR(30), \n",
      "\tfullname VARCHAR, \n",
      "\tPRIMARY KEY (id)\n",
      ")\n",
      "\n",
      "\n",
      "2025-03-12 14:47:16,324 INFO sqlalchemy.engine.Engine [no key 0.00075s] ()\n",
      "2025-03-12 14:47:16,326 INFO sqlalchemy.engine.Engine \n",
      "CREATE TABLE address (\n",
      "\tid INTEGER NOT NULL, \n",
      "\tuser_id INTEGER NOT NULL, \n",
      "\temail_address VARCHAR NOT NULL, \n",
      "\tPRIMARY KEY (id), \n",
      "\tFOREIGN KEY(user_id) REFERENCES user_account (id)\n",
      ")\n",
      "\n",
      "\n",
      "2025-03-12 14:47:16,327 INFO sqlalchemy.engine.Engine [no key 0.00144s] ()\n",
      "2025-03-12 14:47:16,329 INFO sqlalchemy.engine.Engine COMMIT\n"
     ]
    }
   ],
   "source": [
    "metadata_obj.create_all(engine)"
   ]
  },
  {
   "cell_type": "code",
   "execution_count": 20,
   "metadata": {},
   "outputs": [],
   "source": [
    "from sqlalchemy.orm import declarative_base\n",
    "\n",
    "Base = declarative_base()"
   ]
  },
  {
   "cell_type": "code",
   "execution_count": 21,
   "metadata": {},
   "outputs": [],
   "source": [
    "from sqlalchemy.orm import Mapped, mapped_column, relationship\n",
    "from typing import List, Optional\n",
    "\n",
    "\n",
    "# Userクラスの定義\n",
    "class User(Base):\n",
    "    __tablename__ = \"user_account\"\n",
    "\n",
    "    id: Mapped[int] = mapped_column(primary_key=True)\n",
    "    name: Mapped[str] = mapped_column(String(30))\n",
    "    fullname: Mapped[Optional[str]]\n",
    "\n",
    "    addresses: Mapped[List[\"Address\"]] = relationship(back_populates=\"user\")\n",
    "\n",
    "\n",
    "# Addressクラスの定義\n",
    "class Address(Base):\n",
    "    __tablename__ = \"address\"\n",
    "\n",
    "    id: Mapped[int] = mapped_column(primary_key=True)\n",
    "    email_address: Mapped[str]\n",
    "    user_id: Mapped[int] = mapped_column(ForeignKey(\"user_account.id\"))\n",
    "\n",
    "    user: Mapped[User] = relationship(back_populates=\"addresses\")"
   ]
  },
  {
   "cell_type": "code",
   "execution_count": 22,
   "metadata": {},
   "outputs": [
    {
     "name": "stdout",
     "output_type": "stream",
     "text": [
      "2025-03-12 14:49:31,465 INFO sqlalchemy.engine.Engine BEGIN (implicit)\n",
      "2025-03-12 14:49:31,466 INFO sqlalchemy.engine.Engine PRAGMA main.table_xinfo(\"some_table\")\n",
      "2025-03-12 14:49:31,466 INFO sqlalchemy.engine.Engine [raw sql] ()\n",
      "2025-03-12 14:49:31,467 INFO sqlalchemy.engine.Engine SELECT sql FROM  (SELECT * FROM sqlite_master UNION ALL   SELECT * FROM sqlite_temp_master) WHERE name = ? AND type in ('table', 'view')\n",
      "2025-03-12 14:49:31,469 INFO sqlalchemy.engine.Engine [raw sql] ('some_table',)\n",
      "2025-03-12 14:49:31,471 INFO sqlalchemy.engine.Engine PRAGMA main.foreign_key_list(\"some_table\")\n",
      "2025-03-12 14:49:31,473 INFO sqlalchemy.engine.Engine [raw sql] ()\n",
      "2025-03-12 14:49:31,473 INFO sqlalchemy.engine.Engine PRAGMA temp.foreign_key_list(\"some_table\")\n",
      "2025-03-12 14:49:31,474 INFO sqlalchemy.engine.Engine [raw sql] ()\n",
      "2025-03-12 14:49:31,474 INFO sqlalchemy.engine.Engine SELECT sql FROM  (SELECT * FROM sqlite_master UNION ALL   SELECT * FROM sqlite_temp_master) WHERE name = ? AND type in ('table', 'view')\n",
      "2025-03-12 14:49:31,475 INFO sqlalchemy.engine.Engine [raw sql] ('some_table',)\n",
      "2025-03-12 14:49:31,477 INFO sqlalchemy.engine.Engine PRAGMA main.index_list(\"some_table\")\n",
      "2025-03-12 14:49:31,478 INFO sqlalchemy.engine.Engine [raw sql] ()\n",
      "2025-03-12 14:49:31,478 INFO sqlalchemy.engine.Engine PRAGMA temp.index_list(\"some_table\")\n",
      "2025-03-12 14:49:31,479 INFO sqlalchemy.engine.Engine [raw sql] ()\n",
      "2025-03-12 14:49:31,480 INFO sqlalchemy.engine.Engine PRAGMA main.table_info(\"some_table\")\n",
      "2025-03-12 14:49:31,480 INFO sqlalchemy.engine.Engine [raw sql] ()\n",
      "2025-03-12 14:49:31,482 INFO sqlalchemy.engine.Engine PRAGMA main.index_list(\"some_table\")\n",
      "2025-03-12 14:49:31,483 INFO sqlalchemy.engine.Engine [raw sql] ()\n",
      "2025-03-12 14:49:31,484 INFO sqlalchemy.engine.Engine PRAGMA temp.index_list(\"some_table\")\n",
      "2025-03-12 14:49:31,484 INFO sqlalchemy.engine.Engine [raw sql] ()\n",
      "2025-03-12 14:49:31,485 INFO sqlalchemy.engine.Engine PRAGMA main.table_info(\"some_table\")\n",
      "2025-03-12 14:49:31,486 INFO sqlalchemy.engine.Engine [raw sql] ()\n",
      "2025-03-12 14:49:31,487 INFO sqlalchemy.engine.Engine SELECT sql FROM  (SELECT * FROM sqlite_master UNION ALL   SELECT * FROM sqlite_temp_master) WHERE name = ? AND type in ('table', 'view')\n",
      "2025-03-12 14:49:31,487 INFO sqlalchemy.engine.Engine [raw sql] ('some_table',)\n",
      "2025-03-12 14:49:31,490 INFO sqlalchemy.engine.Engine ROLLBACK\n"
     ]
    }
   ],
   "source": [
    "some_table = Table(\"some_table\", metadata_obj, autoload_with=engine)"
   ]
  },
  {
   "cell_type": "code",
   "execution_count": 23,
   "metadata": {},
   "outputs": [
    {
     "name": "stdout",
     "output_type": "stream",
     "text": [
      "['x', 'y']\n"
     ]
    }
   ],
   "source": [
    "print(some_table.c.keys())"
   ]
  }
 ],
 "metadata": {
  "kernelspec": {
   "display_name": "env",
   "language": "python",
   "name": "python3"
  },
  "language_info": {
   "codemirror_mode": {
    "name": "ipython",
    "version": 3
   },
   "file_extension": ".py",
   "mimetype": "text/x-python",
   "name": "python",
   "nbconvert_exporter": "python",
   "pygments_lexer": "ipython3",
   "version": "3.13.2"
  }
 },
 "nbformat": 4,
 "nbformat_minor": 2
}
